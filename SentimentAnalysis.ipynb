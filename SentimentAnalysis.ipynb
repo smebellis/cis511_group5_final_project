{
 "cells": [
  {
   "cell_type": "markdown",
   "metadata": {
    "colab_type": "text",
    "id": "view-in-github"
   },
   "source": [
    "<a href=\"https://colab.research.google.com/github/smebellis/cis511_group5_final_project/blob/main/Untitled4.ipynb\" target=\"_parent\"><img src=\"https://colab.research.google.com/assets/colab-badge.svg\" alt=\"Open In Colab\"/></a>"
   ]
  },
  {
   "cell_type": "code",
   "execution_count": 1,
   "metadata": {
    "id": "AwwXDR8iPsBH"
   },
   "outputs": [
    {
     "name": "stderr",
     "output_type": "stream",
     "text": [
      "/Users/omkardeshpande/anaconda3/lib/python3.10/site-packages/tqdm/auto.py:22: TqdmWarning: IProgress not found. Please update jupyter and ipywidgets. See https://ipywidgets.readthedocs.io/en/stable/user_install.html\n",
      "  from .autonotebook import tqdm as notebook_tqdm\n",
      "Downloading builder script: 100%|██████████| 9.72k/9.72k [00:00<00:00, 3.25MB/s]\n",
      "Downloading metadata: 100%|████████████████| 30.4k/30.4k [00:00<00:00, 7.98MB/s]\n",
      "Downloading readme: 100%|██████████████████| 21.9k/21.9k [00:00<00:00, 3.99MB/s]\n",
      "Downloading data files:   0%|                             | 0/6 [00:00<?, ?it/s]\n",
      "Downloading data:   0%|                             | 0.00/2.24M [00:00<?, ?B/s]\u001b[A\n",
      "Downloading data:  13%|██▋                  | 290k/2.24M [00:00<00:00, 2.54MB/s]\u001b[A\n",
      "Downloading data:  26%|█████▍               | 580k/2.24M [00:00<00:00, 2.68MB/s]\u001b[A\n",
      "Downloading data:  40%|████████▍            | 907k/2.24M [00:00<00:00, 2.80MB/s]\u001b[A\n",
      "Downloading data:  57%|███████████▎        | 1.27M/2.24M [00:00<00:00, 3.08MB/s]\u001b[A\n",
      "Downloading data:  72%|██████████████▍     | 1.63M/2.24M [00:00<00:00, 3.19MB/s]\u001b[A\n",
      "Downloading data:  90%|██████████████████  | 2.02M/2.24M [00:00<00:00, 3.42MB/s]\u001b[A\n",
      "Downloading data: 2.39MB [00:00, 3.45MB/s]                                      \u001b[A\n",
      "Downloading data: 2.76MB [00:00, 3.54MB/s]\u001b[A\n",
      "Downloading data: 3.16MB [00:00, 3.64MB/s]\u001b[A\n",
      "Downloading data: 3.59MB [00:01, 3.71MB/s]\u001b[A\n",
      "Downloading data: 4.07MB [00:01, 3.96MB/s]\u001b[A\n",
      "Downloading data: 4.97MB [00:01, 3.69MB/s]\u001b[A\n",
      "Downloading data files:  17%|███▌                 | 1/6 [00:02<00:11,  2.37s/it]\n",
      "Downloading data: 91.2kB [00:00, 18.7MB/s]                                      \u001b[A\n",
      "Downloading data files:  33%|███████              | 2/6 [00:02<00:04,  1.20s/it]\n",
      "Downloading data:   0%|                              | 0.00/527k [00:00<?, ?B/s]\u001b[A\n",
      "Downloading data: 1.16MB [00:00, 10.1MB/s]                                      \u001b[A\n",
      "Downloading data files:  50%|██████████▌          | 3/6 [00:03<00:03,  1.01s/it]\n",
      "Downloading data: 24.6kB [00:00, 4.56MB/s]                                      \u001b[A\n",
      "Downloading data files:  67%|██████████████       | 4/6 [00:03<00:01,  1.35it/s]\n",
      "Downloading data: 219kB [00:00, 6.38MB/s]                                       \u001b[A\n",
      "Downloading data files:  83%|█████████████████▌   | 5/6 [00:04<00:00,  1.44it/s]\n",
      "Downloading data: 4.00kB [00:00, 1.17MB/s]                                      \u001b[A\n",
      "Downloading data files: 100%|█████████████████████| 6/6 [00:04<00:00,  1.25it/s]\n",
      "Extracting data files: 100%|████████████████████| 6/6 [00:00<00:00, 1300.90it/s]\n",
      "Generating train split: 100%|██| 45615/45615 [00:00<00:00, 107579.52 examples/s]\n",
      "Generating test split: 100%|███| 12284/12284 [00:00<00:00, 128653.98 examples/s]\n",
      "Generating validation split: 100%|█| 2000/2000 [00:00<00:00, 118252.67 examples/"
     ]
    },
    {
     "name": "stdout",
     "output_type": "stream",
     "text": [
      "DatasetDict({\n",
      "    train: Dataset({\n",
      "        features: ['text', 'label'],\n",
      "        num_rows: 45615\n",
      "    })\n",
      "    test: Dataset({\n",
      "        features: ['text', 'label'],\n",
      "        num_rows: 12284\n",
      "    })\n",
      "    validation: Dataset({\n",
      "        features: ['text', 'label'],\n",
      "        num_rows: 2000\n",
      "    })\n",
      "})\n"
     ]
    },
    {
     "name": "stderr",
     "output_type": "stream",
     "text": [
      "\n"
     ]
    }
   ],
   "source": [
    "from datasets import load_dataset"
   ]
  },
  {
   "cell_type": "code",
   "execution_count": 4,
   "metadata": {},
   "outputs": [
    {
     "name": "stdout",
     "output_type": "stream",
     "text": [
      "{'text': '\"QT @user In the original draft of the 7th book, Remus Lupin survived the Battle of Hogwarts. #HappyBirthdayRemusLupin\"', 'label': 2}\n"
     ]
    }
   ],
   "source": [
    "dataset = load_dataset(\"tweet_eval\", \"sentiment\")\n",
    "\n",
    "print(dataset['train'][0])"
   ]
  },
  {
   "cell_type": "code",
   "execution_count": null,
   "metadata": {},
   "outputs": [],
   "source": []
  }
 ],
 "metadata": {
  "colab": {
   "authorship_tag": "ABX9TyN+OnD671TM/9vnDdF/qi3P",
   "include_colab_link": true,
   "provenance": []
  },
  "kernelspec": {
   "display_name": "Python 3 (ipykernel)",
   "language": "python",
   "name": "python3"
  },
  "language_info": {
   "codemirror_mode": {
    "name": "ipython",
    "version": 3
   },
   "file_extension": ".py",
   "mimetype": "text/x-python",
   "name": "python",
   "nbconvert_exporter": "python",
   "pygments_lexer": "ipython3",
   "version": "3.10.9"
  }
 },
 "nbformat": 4,
 "nbformat_minor": 1
}
